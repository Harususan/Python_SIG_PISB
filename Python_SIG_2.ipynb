{
  "nbformat": 4,
  "nbformat_minor": 0,
  "metadata": {
    "colab": {
      "name": "Python_SIG 2.ipynb",
      "provenance": []
    },
    "kernelspec": {
      "name": "python3",
      "display_name": "Python 3"
    },
    "language_info": {
      "name": "python"
    }
  },
  "cells": [
    {
      "cell_type": "markdown",
      "source": [
        "**Problem 1**"
      ],
      "metadata": {
        "id": "LYOlpvi8fO4m"
      }
    },
    {
      "cell_type": "code",
      "execution_count": null,
      "metadata": {
        "id": "vs-pMYkve7H6"
      },
      "outputs": [],
      "source": [
        "A = set()\n",
        "for i in range(3, 101, 3):\n",
        "  A.add(i)\n",
        "B = set()\n",
        "for i in range(5, 101, 5):\n",
        "  B.add(i)\n",
        "\n",
        "print(A.union(B))\n",
        "print(A.intersection(B))\n",
        "print(A.difference(B))\n",
        "print(B.difference(A))\n"
      ]
    },
    {
      "cell_type": "markdown",
      "source": [
        "**Problem 2**"
      ],
      "metadata": {
        "id": "9RIXIdkvgos4"
      }
    },
    {
      "cell_type": "code",
      "source": [
        "def add(num1, num2):\n",
        "  return num1 + num2\n",
        "def sub(num1, num2):\n",
        "  return num1 - num2\n",
        "def multi(num1, num2):\n",
        "  return num1 * num2\n",
        "def div(num1, num2):\n",
        "  return num1 / num2\n",
        "\n",
        "print(add(1, 2))\n",
        "print(sub(16, 15))\n",
        "print(multi(5, 6))\n",
        "print(div(24, 8))"
      ],
      "metadata": {
        "id": "iZKt7-Lzguyz"
      },
      "execution_count": null,
      "outputs": []
    },
    {
      "cell_type": "markdown",
      "source": [
        "**Problem 3**"
      ],
      "metadata": {
        "id": "CpJKKk8tjVqJ"
      }
    },
    {
      "cell_type": "code",
      "source": [
        "out_L = [ ] \n",
        "def insert(x, L):\n",
        "  '''insert x in L'''\n",
        "\n",
        "  inserted = False \n",
        "  for elem in L:\n",
        "    if (not inserted) and (elem > x):\n",
        "      out_L.append(x)\n",
        "      inserted = True \n",
        "    out_L.append(elem)\n",
        "  if (not inserted):\n",
        "    out_L.append(x)\n",
        "  return out_L\n",
        "\n",
        "print(insert(3, [1, 2, 4]))"
      ],
      "metadata": {
        "id": "tsydDanUjZfo",
        "colab": {
          "base_uri": "https://localhost:8080/"
        },
        "outputId": "a183f189-8cac-4cca-9881-40266b16cf7f"
      },
      "execution_count": null,
      "outputs": [
        {
          "output_type": "stream",
          "name": "stdout",
          "text": [
            "[1, 2, 3, 4]\n"
          ]
        }
      ]
    },
    {
      "cell_type": "markdown",
      "source": [
        "**Problem 4**"
      ],
      "metadata": {
        "id": "jZ363QytKRRV"
      }
    },
    {
      "cell_type": "code",
      "source": [
        "def is_identity(A):\n",
        "  dim = len(A)\n",
        "  for i in range(dim):\n",
        "    for j in range(dim):\n",
        "\n",
        "      if i == j and A[i][j] != 1:\n",
        "        return False\n",
        "\n",
        "      elif i != j and A[i][j] != 0:\n",
        "        return False\n",
        "  return True\n",
        "\n",
        "A = [ ]\n",
        "dim = int(input())\n",
        "for i in range(dim):\n",
        "  A.append([ ])\n",
        "  for num in input().split():\n",
        "    A[-1].append(int(num))\n",
        "print(is_identity(A))"
      ],
      "metadata": {
        "id": "kLp06QzCLpNZ"
      },
      "execution_count": null,
      "outputs": []
    },
    {
      "cell_type": "markdown",
      "source": [
        "**Problem 5**\n"
      ],
      "metadata": {
        "id": "KCoh8PSXPU7t"
      }
    },
    {
      "cell_type": "code",
      "source": [
        "def greater(X, Y):\n",
        "  L = len(X)\n",
        "  for i in range(L):\n",
        "    if X[i] <= Y[i]:\n",
        "      return False\n",
        "  return True\n",
        "\n",
        "print(greater([11, 21, 31], [4, 5, 6]))"
      ],
      "metadata": {
        "colab": {
          "base_uri": "https://localhost:8080/"
        },
        "id": "zVNFwJ-xN1Ph",
        "outputId": "9197b983-f320-4bce-e4f3-aba1dc79ac2f"
      },
      "execution_count": null,
      "outputs": [
        {
          "output_type": "stream",
          "name": "stdout",
          "text": [
            "True\n"
          ]
        }
      ]
    },
    {
      "cell_type": "markdown",
      "source": [
        "**Problem 6**"
      ],
      "metadata": {
        "id": "0XX42o7YPzEh"
      }
    },
    {
      "cell_type": "code",
      "source": [
        "# iterative\n",
        "def geometric_i(n):\n",
        "  S = 0\n",
        "  for i in range(n):\n",
        "    S = S + 2 ** i\n",
        "  return S\n",
        "  \n",
        "# recursive\n",
        "def geometric_r(n):\n",
        "  if n == 1:\n",
        "    return 1\n",
        "  return geometric_r(n - 1) + 2 ** (n - 1)\n",
        "\n",
        "print(geometric_i(2))\n",
        "print(geometric_r(2))"
      ],
      "metadata": {
        "id": "_HN1vE9pPkSq",
        "outputId": "93a8e021-a9a7-4929-b58f-0812afd05e05",
        "colab": {
          "base_uri": "https://localhost:8080/"
        }
      },
      "execution_count": null,
      "outputs": [
        {
          "output_type": "stream",
          "name": "stdout",
          "text": [
            "3\n",
            "3\n"
          ]
        }
      ]
    },
    {
      "cell_type": "markdown",
      "source": [
        "**Problem 7**"
      ],
      "metadata": {
        "id": "c3gDwR1LQZvT"
      }
    },
    {
      "cell_type": "code",
      "source": [
        "def multiply(a, b):\n",
        "  if b == 1:\n",
        "    return a\n",
        "  return multiply(a, b - 1) + a\n",
        "\n",
        "print(multiply(2, 3))"
      ],
      "metadata": {
        "id": "PSUzy1_KQRyb"
      },
      "execution_count": null,
      "outputs": []
    },
    {
      "cell_type": "markdown",
      "source": [
        "**Problem 8**"
      ],
      "metadata": {
        "id": "tZa3A1CdQ-h_"
      }
    },
    {
      "cell_type": "code",
      "source": [
        "def remainder(a, b):\n",
        "  if a < b:\n",
        "    return a\n",
        "  return remainder(a - b, b)\n",
        "\n",
        "print(remainder(4, 4))"
      ],
      "metadata": {
        "id": "3R9t1Kx6Q0cC",
        "outputId": "c2db620b-8c4c-4566-a794-734e2d30ded2",
        "colab": {
          "base_uri": "https://localhost:8080/"
        }
      },
      "execution_count": null,
      "outputs": [
        {
          "output_type": "stream",
          "name": "stdout",
          "text": [
            "0\n"
          ]
        }
      ]
    },
    {
      "cell_type": "markdown",
      "source": [
        "**Problem 9**"
      ],
      "metadata": {
        "id": "8tinTURMSn9b"
      }
    },
    {
      "cell_type": "code",
      "source": [
        "# single line implementation\n",
        "def uniq_s(L):\n",
        "  return list(set(L))\n",
        "\n",
        "# Recursive implementation\n",
        "def uniq_r(L):\n",
        "  if len(L) <= 1:\n",
        "    return L\n",
        "  init = L[: -1]\n",
        "  last = L[-1]\n",
        "  if last in init:\n",
        "    return uniq_r(init)\n",
        "  else:\n",
        "    return uniq_r(init) + [last]\n",
        "\n",
        "print(uniq_s([1, 1, 2, 3]))\n",
        "print(uniq_r([1, 1, 2, 3]))"
      ],
      "metadata": {
        "id": "GLaxEDhwR9mD"
      },
      "execution_count": null,
      "outputs": []
    },
    {
      "cell_type": "markdown",
      "source": [
        "**Problem 10**"
      ],
      "metadata": {
        "id": "ylSDT_JAUBvc"
      }
    },
    {
      "cell_type": "code",
      "source": [
        "def gcd(a, b):\n",
        "  if a < b:\n",
        "    return gcd(b, a)\n",
        "  if a % b == 0:\n",
        "    return b\n",
        "  else:\n",
        "    print(a)\n",
        "    return gcd(a % b, b)\n",
        "\n",
        "print(gcd(101, 4))"
      ],
      "metadata": {
        "id": "TtoQyVa9ToNo",
        "colab": {
          "base_uri": "https://localhost:8080/"
        },
        "outputId": "77b10c45-3b38-42a0-f3ce-982d611e26d3"
      },
      "execution_count": null,
      "outputs": [
        {
          "output_type": "stream",
          "name": "stdout",
          "text": [
            "101\n",
            "1\n"
          ]
        }
      ]
    },
    {
      "cell_type": "markdown",
      "source": [
        "**Problem 11**"
      ],
      "metadata": {
        "id": "n6-Eu3MaUauE"
      }
    },
    {
      "cell_type": "code",
      "source": [
        "r = lambda a : a + 15\n",
        "print(r(10))\n",
        "r = lambda x, y : x * y\n",
        "print(r(12, 4))"
      ],
      "metadata": {
        "id": "FQ3E08YaUUAD"
      },
      "execution_count": null,
      "outputs": []
    }
  ]
}