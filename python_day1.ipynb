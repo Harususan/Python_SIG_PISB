{
  "nbformat": 4,
  "nbformat_minor": 0,
  "metadata": {
    "colab": {
      "name": "python_day1.ipynb",
      "provenance": []
    },
    "kernelspec": {
      "name": "python3",
      "display_name": "Python 3"
    },
    "language_info": {
      "name": "python"
    }
  },
  "cells": [
    {
      "cell_type": "markdown",
      "source": [
        "#Problem 1 Solution"
      ],
      "metadata": {
        "id": "dudJvQObI_o9"
      }
    },
    {
      "cell_type": "code",
      "execution_count": null,
      "metadata": {
        "colab": {
          "base_uri": "https://localhost:8080/"
        },
        "id": "sef-VaL9I7Gl",
        "outputId": "88c3882c-6e4b-45b8-e144-6649319b705d"
      },
      "outputs": [
        {
          "output_type": "stream",
          "name": "stdout",
          "text": [
            "Today's date:  1.0 6.202 2\n",
            "Sum =  22\n",
            "Sum2 =  11.0\n"
          ]
        }
      ],
      "source": [
        "input_list = [\"3.8\", 6.202, \"4\", 1.0, \"5\", \"7.2\", 2, \"9.087\", \"1\" ]\n",
        "# Task 1\n",
        "a = str(input_list[1])\n",
        "b = str(input_list[3])\n",
        "c = str(input_list[6])\n",
        "print(\"Today's date: \", b,a,c )\n",
        "# Task 2\n",
        "d = int(float(input_list[1]))\n",
        "e = int(float(input_list[5]))\n",
        "f = int(float(input_list[7]))\n",
        "print(\"Sum = \",d+e+f)\n",
        "# Task 3\n",
        "g = float(int(input_list[2]))\n",
        "h = float(int(input_list[4]))\n",
        "i = float(int(input_list[6]))\n",
        "print(\"Sum2 = \",g+h+i)"
      ]
    },
    {
      "cell_type": "markdown",
      "source": [
        "#Problem 2 Solution"
      ],
      "metadata": {
        "id": "cMW-F7ChLF8e"
      }
    },
    {
      "cell_type": "code",
      "source": [
        "number = int(input())\n",
        "square_number = int(number ** 0.5)\n",
        "print(square_number ** 2 == number)\n"
      ],
      "metadata": {
        "colab": {
          "base_uri": "https://localhost:8080/"
        },
        "id": "E_sGiJTqLJ2w",
        "outputId": "1eb9c2d2-67a0-40f3-e750-a4b7d16da8e5"
      },
      "execution_count": null,
      "outputs": [
        {
          "output_type": "stream",
          "name": "stdout",
          "text": [
            "25\n",
            "True\n"
          ]
        }
      ]
    },
    {
      "cell_type": "markdown",
      "source": [
        "#Problem 3 Solution"
      ],
      "metadata": {
        "id": "rbnYaFqsMObL"
      }
    },
    {
      "cell_type": "code",
      "source": [
        "word = input()\n",
        "print(word[0] == word[-1])\n"
      ],
      "metadata": {
        "colab": {
          "base_uri": "https://localhost:8080/"
        },
        "id": "7zGVA2lIMScL",
        "outputId": "863d990b-4cec-4d85-e199-cea2cd7de196"
      },
      "execution_count": null,
      "outputs": [
        {
          "output_type": "stream",
          "name": "stdout",
          "text": [
            "harsh\n",
            "True\n"
          ]
        }
      ]
    },
    {
      "cell_type": "markdown",
      "source": [
        "#Problem 4 Solution"
      ],
      "metadata": {
        "id": "-v62cbbRMmEl"
      }
    },
    {
      "cell_type": "code",
      "source": [
        "string = input()\n",
        "string = string[::-1]\n",
        "print(string)"
      ],
      "metadata": {
        "colab": {
          "base_uri": "https://localhost:8080/"
        },
        "id": "C466WEIzMkd7",
        "outputId": "da72d70e-a293-4ed8-9386-b3e337f0f481"
      },
      "execution_count": null,
      "outputs": [
        {
          "output_type": "stream",
          "name": "stdout",
          "text": [
            "Harsh\n",
            "hsraH\n"
          ]
        }
      ]
    },
    {
      "cell_type": "markdown",
      "source": [
        "#Problem 5 Solution"
      ],
      "metadata": {
        "id": "WQyvCSGWNFQc"
      }
    },
    {
      "cell_type": "code",
      "source": [
        "num = input()\n",
        "first, middle, last = int(num[0]), int(num[1]), int(num[2])\n",
        "if abs(first - last) == middle:\n",
        "    print('sandwich')\n",
        "else:\n",
        "    print('plain')\n"
      ],
      "metadata": {
        "colab": {
          "base_uri": "https://localhost:8080/"
        },
        "id": "JIJEwdKuNIR8",
        "outputId": "77fd0ae5-55a5-4f02-b3b6-fd45943e345d"
      },
      "execution_count": null,
      "outputs": [
        {
          "output_type": "stream",
          "name": "stdout",
          "text": [
            "124\n",
            "plain\n"
          ]
        }
      ]
    },
    {
      "cell_type": "markdown",
      "source": [
        "#Problem 6 Solution"
      ],
      "metadata": {
        "id": "t4a7aXpuNiDX"
      }
    },
    {
      "cell_type": "code",
      "source": [
        "start, end = input(), input()\n",
        "pos = 'ABCDEFGH'\n",
        "start_horiz, start_vert = pos.index(start[0]), int(start[1])\n",
        "end_horiz, end_vert = pos.index(end[0]), int(end[1])\n",
        "if abs(start_horiz - end_horiz) == abs(start_vert - end_vert):\n",
        "    print('YES')\n",
        "else:\n",
        "    print('NO')\n"
      ],
      "metadata": {
        "id": "oroS04WCNkWn",
        "colab": {
          "base_uri": "https://localhost:8080/"
        },
        "outputId": "2a759d88-bf16-4fea-cdc6-a9f3bf01cb99"
      },
      "execution_count": null,
      "outputs": [
        {
          "output_type": "stream",
          "name": "stdout",
          "text": [
            "E8\n",
            "D1\n",
            "NO\n"
          ]
        }
      ]
    },
    {
      "cell_type": "markdown",
      "source": [
        "#Problem 7 Solution"
      ],
      "metadata": {
        "id": "AFHlBnXCNn1C"
      }
    },
    {
      "cell_type": "code",
      "source": [
        "# Using for\n",
        "sum1 = 0\n",
        "for i in range(101):\n",
        "    if i%2 == 1:\n",
        "        sum1+=i\n",
        "print(\"For sum: \",sum1)\n",
        "\n",
        "# Using while\n",
        "sum2 = 0\n",
        "num = 100\n",
        "while num > 0:\n",
        "    if num%2 == 1:\n",
        "        sum2+=num\n",
        "    num-=1\n",
        "print(\"While sum: \",sum2)"
      ],
      "metadata": {
        "colab": {
          "base_uri": "https://localhost:8080/"
        },
        "id": "KQU4Qmg2NqXc",
        "outputId": "6817483f-05a9-4068-b184-f60cd66787c2"
      },
      "execution_count": null,
      "outputs": [
        {
          "output_type": "stream",
          "name": "stdout",
          "text": [
            "For sum:  2500\n",
            "While sum:  2500\n"
          ]
        }
      ]
    },
    {
      "cell_type": "markdown",
      "source": [
        "#Problem 8 solution "
      ],
      "metadata": {
        "id": "KITlYKKJOpSE"
      }
    },
    {
      "cell_type": "code",
      "source": [
        "name = input()\n",
        "res = ''\n",
        "first_char = True\n",
        "for char in name:\n",
        "    if first_char == True:\n",
        "        res = res + char\n",
        "        first_char = False\n",
        "    if char == ' ':\n",
        "        first_char = True\n",
        "print(res)\n"
      ],
      "metadata": {
        "id": "eRE8Qk-aOs8W"
      },
      "execution_count": null,
      "outputs": []
    },
    {
      "cell_type": "markdown",
      "source": [
        "#Problem 9 solution"
      ],
      "metadata": {
        "id": "uqJLAZokPavC"
      }
    },
    {
      "cell_type": "code",
      "source": [
        "num_1 = int(input())\n",
        "num_2 = int(input())\n",
        "while num_2 != 0:\n",
        "    num_1, num_2 = num_2, num_1 % num_2\n",
        "print(num_1)\n"
      ],
      "metadata": {
        "id": "FXqttH9hPdjr"
      },
      "execution_count": null,
      "outputs": []
    },
    {
      "cell_type": "markdown",
      "source": [
        "#Problem 10 solution"
      ],
      "metadata": {
        "id": "MTF4rpXKPyGi"
      }
    },
    {
      "cell_type": "code",
      "source": [
        "print('\\t', end = '')\n",
        "for i in range(1, 11):\n",
        "    print(i, end = '\\t')\n",
        "print()\n",
        "for i in range(1, 11):\n",
        "    print(i, end = '\\t')\n",
        "    for j in range(1, 11):\n",
        "        print(i * j, end = '\\t')\n",
        "    print()\n"
      ],
      "metadata": {
        "colab": {
          "base_uri": "https://localhost:8080/"
        },
        "id": "sPwbO1MgP0li",
        "outputId": "0c2a4611-2781-421c-eb66-f77536136a0d"
      },
      "execution_count": null,
      "outputs": [
        {
          "output_type": "stream",
          "name": "stdout",
          "text": [
            "\t1\t2\t3\t4\t5\t6\t7\t8\t9\t10\t\n",
            "1\t1\t2\t3\t4\t5\t6\t7\t8\t9\t10\t\n",
            "2\t2\t4\t6\t8\t10\t12\t14\t16\t18\t20\t\n",
            "3\t3\t6\t9\t12\t15\t18\t21\t24\t27\t30\t\n",
            "4\t4\t8\t12\t16\t20\t24\t28\t32\t36\t40\t\n",
            "5\t5\t10\t15\t20\t25\t30\t35\t40\t45\t50\t\n",
            "6\t6\t12\t18\t24\t30\t36\t42\t48\t54\t60\t\n",
            "7\t7\t14\t21\t28\t35\t42\t49\t56\t63\t70\t\n",
            "8\t8\t16\t24\t32\t40\t48\t56\t64\t72\t80\t\n",
            "9\t9\t18\t27\t36\t45\t54\t63\t72\t81\t90\t\n",
            "10\t10\t20\t30\t40\t50\t60\t70\t80\t90\t100\t\n"
          ]
        }
      ]
    },
    {
      "cell_type": "markdown",
      "source": [
        "#Problem 11 solution"
      ],
      "metadata": {
        "id": "oXTjIgE9QEDS"
      }
    },
    {
      "cell_type": "code",
      "source": [
        "x, y = 0, 0 # start at the origin\n",
        "seq = input()\n",
        "while seq != 'STOP':\n",
        "    if seq == 'UP':\n",
        "        y += 1\n",
        "        break\n",
        "    if seq == 'DOWN':\n",
        "        y -= 1\n",
        "        break\n",
        "    if seq == 'LEFT':\n",
        "        x -= 1\n",
        "        break\n",
        "    if seq == 'RIGHT':\n",
        "        x += 1\n",
        "        break\n",
        "seq = input()\n",
        "# pow is a built in function\n",
        "# pow(x, y) is equivalent to x ** y\n",
        "dist = pow(x ** 2 + y ** 2, 0.5)\n",
        "# rounding off to two decimal places\n",
        "print(f'{dist:0.2f}')"
      ],
      "metadata": {
        "id": "hVOjIbb3QGF5",
        "colab": {
          "base_uri": "https://localhost:8080/"
        },
        "outputId": "a037244b-5900-44b9-9ac6-dfe269878616"
      },
      "execution_count": null,
      "outputs": [
        {
          "output_type": "stream",
          "name": "stdout",
          "text": [
            "UP\n",
            "DOWN\n",
            "1.00\n"
          ]
        }
      ]
    },
    {
      "cell_type": "markdown",
      "source": [
        "#Problem 12 Solution\n"
      ],
      "metadata": {
        "id": "JKeCi-CwETu8"
      }
    },
    {
      "cell_type": "code",
      "source": [
        "ip_list = [3, 9, 6, 12]\n",
        "ip_list.reverse()\n",
        "print(ip_list)\n",
        "ip_list.sort()\n",
        "print(ip_list)\n",
        "ip_list.reverse()\n",
        "b = list()\n",
        "for i in ip_list:\n",
        "    b.append(i//3)\n",
        "print(b)\n"
      ],
      "metadata": {
        "colab": {
          "base_uri": "https://localhost:8080/"
        },
        "id": "OkJ8pgXpEWwp",
        "outputId": "b0a79822-fc99-4bae-deea-b61d3cd2b0ac"
      },
      "execution_count": null,
      "outputs": [
        {
          "output_type": "stream",
          "name": "stdout",
          "text": [
            "[12, 6, 9, 3]\n",
            "[3, 6, 9, 12]\n",
            "[4, 3, 2, 1]\n"
          ]
        }
      ]
    },
    {
      "cell_type": "markdown",
      "source": [
        "#Problem 13 Solution"
      ],
      "metadata": {
        "id": "jzsHigeKGGEb"
      }
    },
    {
      "cell_type": "code",
      "source": [
        "a = {3, 9, 6, 12}\n",
        "a.add(4)\n",
        "a.add(5)\n",
        "a.remove(9)\n",
        "a.remove(12)\n",
        "print(a)"
      ],
      "metadata": {
        "colab": {
          "base_uri": "https://localhost:8080/"
        },
        "id": "XIHMropsGJDp",
        "outputId": "a315847b-0f62-4fe5-e745-885294cff7eb"
      },
      "execution_count": null,
      "outputs": [
        {
          "output_type": "stream",
          "name": "stdout",
          "text": [
            "{3, 4, 5, 6}\n"
          ]
        }
      ]
    },
    {
      "cell_type": "markdown",
      "source": [
        "#Problem 14 Solution"
      ],
      "metadata": {
        "id": "JzR2IDyVCwsW"
      }
    },
    {
      "cell_type": "code",
      "source": [
        "import random\n",
        "# Assumptions\n",
        "# (1) Computer starts first\n",
        "# (2) n > 4\n",
        "# (3) User always enters an integer\n",
        "# no. of marbles\n",
        "n = int(input('Enter the number of marbles you wish to play with: '))\n",
        "print('------------------')\n",
        "print(f'Game | {n} marbles')\n",
        "print('------------------')\n",
        "### Start ###\n",
        "turn = 'computer'\n",
        "# Game continues as long as there are marbles in the pile\n",
        "while n > 0:\n",
        "# check whose turn it is\n",
        "    if turn == 'human':\n",
        "        human = int(input('Your turn: '))\n",
        "        # second condition is needed\n",
        "        # you can't remove more marbles than what is there in the pile\n",
        "        if not(1 <= human <= 4) or (n < human):\n",
        "            print('Invalid move')\n",
        "            continue\n",
        "        # successful move\n",
        "        n -= human\n",
        "        # it is now the computer's turn\n",
        "        turn = 'computer'\n",
        "        # After every turn, notify the user\n",
        "        print(f'##### Marbles remaining: {n}')\n",
        "    elif turn == 'computer':\n",
        "        computer = random.randint(1, 4)\n",
        "        if n < computer:\n",
        "            continue\n",
        "        n -= computer\n",
        "        turn = 'human'\n",
        "    print(f'Computer\\'s choice: {computer}')\n",
        "    print(f'##### Marbles remaining: {n}')\n",
        "# At this stage, n = 0\n",
        "# If it is your turn now, then the last marble was removed by the computer\n",
        "# So you win\n",
        "if turn == 'human':\n",
        "    print('You win!')\n",
        "# If it is the computer's turn now, then the last marble was removed by you\n",
        "# So the computer wins\n",
        "if turn == 'computer':\n",
        "    print('Computer wins!')"
      ],
      "metadata": {
        "id": "_stqmLAnC1F3",
        "colab": {
          "base_uri": "https://localhost:8080/"
        },
        "outputId": "fb2fa589-da41-423e-e8d0-9bbf34a5111f"
      },
      "execution_count": null,
      "outputs": [
        {
          "output_type": "stream",
          "name": "stdout",
          "text": [
            "Enter the number of marbles you wish to play with: 15\n",
            "------------------\n",
            "Game | 15 marbles\n",
            "------------------\n",
            "Computer's choice: 1\n",
            "##### Marbles remaining: 14\n",
            "Your turn: 4\n",
            "##### Marbles remaining: 10\n",
            "Computer's choice: 1\n",
            "##### Marbles remaining: 10\n",
            "Computer's choice: 4\n",
            "##### Marbles remaining: 6\n",
            "Your turn: 3\n",
            "##### Marbles remaining: 3\n",
            "Computer's choice: 4\n",
            "##### Marbles remaining: 3\n",
            "Computer's choice: 3\n",
            "##### Marbles remaining: 0\n",
            "You win!\n"
          ]
        }
      ]
    },
    {
      "cell_type": "markdown",
      "source": [
        "#Problem 15 Solution"
      ],
      "metadata": {
        "id": "TQ2U-CwcDk-Q"
      }
    },
    {
      "cell_type": "code",
      "source": [
        "v1 = [ ]\n",
        "for num in input().split():\n",
        "    v1.append(float(num))\n",
        "v2 = [ ]\n",
        "for num in input().split():\n",
        "    v2.append(float(num))\n",
        "result = 'parallel'\n",
        "# two vectors of unequal length can't be parallel\n",
        "if len(v1) != len(v2):\n",
        "    result = 'not parallel'\n",
        "else:\n",
        "# the scalar\n",
        "    c = 0\n",
        "    length = len(v1)\n",
        "# Find the scalar\n",
        "    for i in range(length):\n",
        "# condition is important\n",
        "# otherwise we will end up\n",
        "# dividing by zero\n",
        "        if v1[i] != 0:\n",
        "            c = v2[i] / v1[i]\n",
        "            break\n",
        "# check if they are parallel\n",
        "    for i in range(length):\n",
        "        if v2[i] != c * v1[i]:\n",
        "            result = 'not parallel'\n",
        "            break\n",
        "print(result)"
      ],
      "metadata": {
        "id": "AwsYkmOYDnWE"
      },
      "execution_count": null,
      "outputs": []
    }
  ]
}